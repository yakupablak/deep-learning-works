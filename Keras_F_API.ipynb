{
  "nbformat": 4,
  "nbformat_minor": 0,
  "metadata": {
    "colab": {
      "name": "Keras_F_API.ipynb",
      "provenance": []
    },
    "kernelspec": {
      "name": "python3",
      "display_name": "Python 3"
    },
    "language_info": {
      "name": "python"
    }
  },
  "cells": [
    {
      "cell_type": "code",
      "execution_count": null,
      "metadata": {
        "colab": {
          "base_uri": "https://localhost:8080/"
        },
        "id": "xKFZOWp5sXRH",
        "outputId": "32438e8c-980a-42ca-97fe-18b277bb0a09"
      },
      "outputs": [
        {
          "output_type": "stream",
          "name": "stdout",
          "text": [
            "Mounted at /gdrive\n",
            "/gdrive\n"
          ]
        }
      ],
      "source": [
        "from google.colab import drive\n",
        "drive.mount(\"/gdrive\")\n",
        "%cd /gdrive"
      ]
    },
    {
      "cell_type": "markdown",
      "source": [
        "##Kütüphanelerin kurulumu ve ağların oluşturulması"
      ],
      "metadata": {
        "id": "vRl9wbfqs2r7"
      }
    },
    {
      "cell_type": "code",
      "source": [
        "from keras import Input,layers"
      ],
      "metadata": {
        "id": "GNSJGYwstDeP"
      },
      "execution_count": null,
      "outputs": []
    },
    {
      "cell_type": "code",
      "source": [
        "input_tensor =Input((32,)) #32 kanallı bir tensor layeri oluşturduk\n",
        "dense = layers.Dense(32, activation= \"relu\")\n",
        "output_tensor =dense(input_tensor)"
      ],
      "metadata": {
        "id": "v40pkl4StbuO"
      },
      "execution_count": null,
      "outputs": []
    },
    {
      "cell_type": "code",
      "source": [
        "from keras.models import Sequential, Model"
      ],
      "metadata": {
        "id": "3UzRjCxeuVfr"
      },
      "execution_count": null,
      "outputs": []
    },
    {
      "cell_type": "markdown",
      "source": [
        "##Sequential Model"
      ],
      "metadata": {
        "id": "Qb4MIZEcubTY"
      }
    },
    {
      "cell_type": "code",
      "source": [
        "seq_model = Sequential()\n",
        "seq_model.add(layers.Dense(32, activation ='relu', input_shape=(64, )))\n",
        "seq_model.add(layers.Dense(32, activation ='relu'))\n",
        "seq_model.add(layers.Dense(10, activation ='sigmoid'))\n",
        "\n",
        "seq_model.summary()"
      ],
      "metadata": {
        "colab": {
          "base_uri": "https://localhost:8080/"
        },
        "id": "EFrNuZbaucdk",
        "outputId": "dc069bcd-8aa3-4efb-d9a5-e5d519e4ddd2"
      },
      "execution_count": null,
      "outputs": [
        {
          "output_type": "stream",
          "name": "stdout",
          "text": [
            "Model: \"sequential_2\"\n",
            "_________________________________________________________________\n",
            " Layer (type)                Output Shape              Param #   \n",
            "=================================================================\n",
            " dense_7 (Dense)             (None, 32)                2080      \n",
            "                                                                 \n",
            " dense_8 (Dense)             (None, 32)                1056      \n",
            "                                                                 \n",
            " dense_9 (Dense)             (None, 10)                330       \n",
            "                                                                 \n",
            "=================================================================\n",
            "Total params: 3,466\n",
            "Trainable params: 3,466\n",
            "Non-trainable params: 0\n",
            "_________________________________________________________________\n"
          ]
        }
      ]
    },
    {
      "cell_type": "markdown",
      "source": [
        "##functional model"
      ],
      "metadata": {
        "id": "SRVGp4nhvsHs"
      }
    },
    {
      "cell_type": "code",
      "source": [
        "input_tensor = Input(shape = (64,))\n",
        "\n",
        "x = layers.Dense(32, activation='relu')(input_tensor)\n",
        "\n",
        "x =layers.Dense(32, activation='relu')(x)\n",
        "\n",
        "output_tensor = layers.Dense(10, activation='softmax')(x)\n",
        "\n",
        "model = Model(input_tensor, output_tensor)\n",
        "\n",
        "model.summary()"
      ],
      "metadata": {
        "colab": {
          "base_uri": "https://localhost:8080/"
        },
        "id": "bP8QyRpyvwQX",
        "outputId": "d67fac10-5b37-4ecf-f050-55cd075c2d6b"
      },
      "execution_count": null,
      "outputs": [
        {
          "output_type": "stream",
          "name": "stdout",
          "text": [
            "Model: \"model\"\n",
            "_________________________________________________________________\n",
            " Layer (type)                Output Shape              Param #   \n",
            "=================================================================\n",
            " input_2 (InputLayer)        [(None, 64)]              0         \n",
            "                                                                 \n",
            " dense_10 (Dense)            (None, 32)                2080      \n",
            "                                                                 \n",
            " dense_11 (Dense)            (None, 32)                1056      \n",
            "                                                                 \n",
            " dense_12 (Dense)            (None, 10)                330       \n",
            "                                                                 \n",
            "=================================================================\n",
            "Total params: 3,466\n",
            "Trainable params: 3,466\n",
            "Non-trainable params: 0\n",
            "_________________________________________________________________\n"
          ]
        }
      ]
    },
    {
      "cell_type": "markdown",
      "source": [
        "##Modelin derlenmesi"
      ],
      "metadata": {
        "id": "ZZNJg8Pfwxdr"
      }
    },
    {
      "cell_type": "code",
      "source": [
        "model.compile(optimizer='rmsprop', loss = 'categorical_crossentropy')"
      ],
      "metadata": {
        "id": "p1c_gKu9w0mV"
      },
      "execution_count": null,
      "outputs": []
    },
    {
      "cell_type": "markdown",
      "source": [
        "##Eğitim için rastgele bir küme oluşturuyoruz"
      ],
      "metadata": {
        "id": "T107411Zw6yq"
      }
    },
    {
      "cell_type": "code",
      "source": [
        "import numpy as np\n",
        "x_train = np.random.random((1000, 64))\n",
        "y_train = np.random.random((1000, 10))\n"
      ],
      "metadata": {
        "id": "TIfFHevMw3qk"
      },
      "execution_count": null,
      "outputs": []
    },
    {
      "cell_type": "markdown",
      "source": [
        "##eğitim"
      ],
      "metadata": {
        "id": "gtjJoKntxH_r"
      }
    },
    {
      "cell_type": "code",
      "source": [
        "model.fit(x_train, y_train, epochs = 10, batch_size = 128)\n",
        "\n",
        "score = model.evaluate(x_train, y_train)"
      ],
      "metadata": {
        "id": "TjSW5PqgxHCY",
        "outputId": "3ecc368f-67dc-48f3-e2cf-88cafc1efa26",
        "colab": {
          "base_uri": "https://localhost:8080/"
        }
      },
      "execution_count": null,
      "outputs": [
        {
          "output_type": "stream",
          "name": "stdout",
          "text": [
            "Epoch 1/10\n",
            "8/8 [==============================] - 1s 2ms/step - loss: 11.7642\n",
            "Epoch 2/10\n",
            "8/8 [==============================] - 0s 2ms/step - loss: 12.4618\n",
            "Epoch 3/10\n",
            "8/8 [==============================] - 0s 2ms/step - loss: 13.5000\n",
            "Epoch 4/10\n",
            "8/8 [==============================] - 0s 2ms/step - loss: 14.7246\n",
            "Epoch 5/10\n",
            "8/8 [==============================] - 0s 2ms/step - loss: 16.1868\n",
            "Epoch 6/10\n",
            "8/8 [==============================] - 0s 2ms/step - loss: 18.0443\n",
            "Epoch 7/10\n",
            "8/8 [==============================] - 0s 2ms/step - loss: 20.4473\n",
            "Epoch 8/10\n",
            "8/8 [==============================] - 0s 2ms/step - loss: 23.2764\n",
            "Epoch 9/10\n",
            "8/8 [==============================] - 0s 2ms/step - loss: 26.1990\n",
            "Epoch 10/10\n",
            "8/8 [==============================] - 0s 2ms/step - loss: 29.4496\n",
            "32/32 [==============================] - 0s 1ms/step - loss: 31.3933\n"
          ]
        }
      ]
    }
  ]
}